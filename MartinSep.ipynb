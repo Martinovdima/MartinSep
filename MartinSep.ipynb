{
  "cells": [
    {
      "cell_type": "markdown",
      "metadata": {
        "id": "view-in-github",
        "colab_type": "text"
      },
      "source": [
        "<a href=\"https://colab.research.google.com/github/Martinovdima/MartinSep/blob/master/MartinSep.ipynb\" target=\"_parent\"><img src=\"https://colab.research.google.com/assets/colab-badge.svg\" alt=\"Open In Colab\"/></a>"
      ]
    },
    {
      "cell_type": "markdown",
      "metadata": {
        "id": "XIXjtzpCBkps"
      },
      "source": [
        "Project \"MartinSep\"\n",
        "Проект по разделению вокала от аккомпанимента. Будет рассмотренно два датасета и несколько моделей нейросетей. Датасеты MUSDB и DSD100.\n"
      ]
    },
    {
      "cell_type": "code",
      "execution_count": null,
      "metadata": {
        "id": "6OCWAcY7Bhb1",
        "colab": {
          "base_uri": "https://localhost:8080/"
        },
        "outputId": "ddb92de7-d788-4341-e615-5da37472afdf"
      },
      "outputs": [
        {
          "output_type": "stream",
          "name": "stdout",
          "text": [
            "Mounted at /content/drive/\n"
          ]
        }
      ],
      "source": [
        "#@title **connect google drive**\n",
        "from google.colab import drive\n",
        "drive.mount('/content/drive/')\n"
      ]
    },
    {
      "cell_type": "code",
      "execution_count": null,
      "metadata": {
        "id": "dSjI1gK1IE0u",
        "colab": {
          "base_uri": "https://localhost:8080/"
        },
        "outputId": "6a10b4eb-38ac-4154-ef74-ac91b2b20cd2"
      },
      "outputs": [
        {
          "output_type": "stream",
          "name": "stdout",
          "text": [
            "Archive:  /content/drive/MyDrive/MUSDB/musdb18.zip\n",
            "  inflating: README.md               \n",
            "   creating: test/\n",
            "  inflating: test/Al James - Schoolboy Facination.stem.mp4  \n",
            "  inflating: test/AM Contra - Heart Peripheral.stem.mp4  \n",
            "  inflating: test/Angels In Amplifiers - I'm Alright.stem.mp4  \n",
            "  inflating: test/Arise - Run Run Run.stem.mp4  \n",
            "  inflating: test/Ben Carrigan - We'll Talk About It All Tonight.stem.mp4  \n",
            "  inflating: test/BKS - Bulldozer.stem.mp4  \n",
            "  inflating: test/BKS - Too Much.stem.mp4  \n",
            "  inflating: test/Bobby Nobody - Stitch Up.stem.mp4  \n",
            "  inflating: test/Buitraker - Revo X.stem.mp4  \n",
            "  inflating: test/Carlos Gonzalez - A Place For Us.stem.mp4  \n",
            "  inflating: test/Cristina Vane - So Easy.stem.mp4  \n",
            "  inflating: test/Detsky Sad - Walkie Talkie.stem.mp4  \n",
            "  inflating: test/Enda Reilly - Cur An Long Ag Seol.stem.mp4  \n",
            "  inflating: test/Forkupines - Semantics.stem.mp4  \n",
            "  inflating: test/Georgia Wonder - Siren.stem.mp4  \n",
            "  inflating: test/Girls Under Glass - We Feel Alright.stem.mp4  \n",
            "  inflating: test/Hollow Ground - Ill Fate.stem.mp4  \n",
            "  inflating: test/James Elder & Mark M Thompson - The English Actor.stem.mp4  \n",
            "  inflating: test/Juliet's Rescue - Heartbeats.stem.mp4  \n",
            "  inflating: test/Little Chicago's Finest - My Own.stem.mp4  \n",
            "  inflating: test/Louis Cressy Band - Good Time.stem.mp4  \n",
            "  inflating: test/Lyndsey Ollard - Catching Up.stem.mp4  \n",
            "  inflating: test/M.E.R.C. Music - Knockout.stem.mp4  \n",
            "  inflating: test/Moosmusic - Big Dummy Shake.stem.mp4  \n",
            "  inflating: test/Motor Tapes - Shore.stem.mp4  \n",
            "  inflating: test/Mu - Too Bright.stem.mp4  \n",
            "  inflating: test/Nerve 9 - Pray For The Rain.stem.mp4  \n",
            "  inflating: test/PR - Happy Daze.stem.mp4  \n",
            "  inflating: test/PR - Oh No.stem.mp4  \n",
            "  inflating: test/Punkdisco - Oral Hygiene.stem.mp4  \n",
            "  inflating: test/Raft Monk - Tiring.stem.mp4  \n",
            "  inflating: test/Sambasevam Shanmugam - Kaathaadi.stem.mp4  \n",
            "  inflating: test/Secretariat - Borderline.stem.mp4  \n",
            "  inflating: test/Secretariat - Over The Top.stem.mp4  \n",
            "  inflating: test/Side Effects Project - Sing With Me.stem.mp4  \n",
            "  inflating: test/Signe Jakobsen - What Have You Done To Me.stem.mp4  \n",
            "  inflating: test/Skelpolu - Resurrection.stem.mp4  \n",
            "  inflating: test/Speak Softly - Broken Man.stem.mp4  \n",
            "  inflating: test/Speak Softly - Like Horses.stem.mp4  \n",
            "  inflating: test/The Doppler Shift - Atrophy.stem.mp4  \n",
            "  inflating: test/The Easton Ellises (Baumi) - SDRNR.stem.mp4  \n",
            "  inflating: test/The Easton Ellises - Falcon 69.stem.mp4  \n",
            "  inflating: test/The Long Wait - Dark Horses.stem.mp4  \n",
            "  inflating: test/The Mountaineering Club - Mallory.stem.mp4  \n",
            "  inflating: test/The Sunshine Garcia Band - For I Am The Moon.stem.mp4  \n",
            "  inflating: test/Timboz - Pony.stem.mp4  \n",
            "  inflating: test/Tom McKenzie - Directions.stem.mp4  \n",
            "  inflating: test/Triviul feat. The Fiend - Widow.stem.mp4  \n",
            "  inflating: test/We Fell From The Sky - Not You.stem.mp4  \n",
            "  inflating: test/Zeno - Signs.stem.mp4  \n",
            "   creating: train/\n",
            "  inflating: train/A Classic Education - NightOwl.stem.mp4  \n",
            "  inflating: train/Actions - Devil's Words.stem.mp4  \n",
            "  inflating: train/Actions - One Minute Smile.stem.mp4  \n",
            "  inflating: train/Actions - South Of The Water.stem.mp4  \n",
            "  inflating: train/Aimee Norwich - Child.stem.mp4  \n",
            "  inflating: train/Alexander Ross - Goodbye Bolero.stem.mp4  \n",
            "  inflating: train/Alexander Ross - Velvet Curtain.stem.mp4  \n",
            "  inflating: train/Angela Thomas Wade - Milk Cow Blues.stem.mp4  \n",
            "  inflating: train/ANiMAL - Clinic A.stem.mp4  \n",
            "  inflating: train/ANiMAL - Easy Tiger.stem.mp4  \n",
            "  inflating: train/ANiMAL - Rockshow.stem.mp4  \n",
            "  inflating: train/Atlantis Bound - It Was My Fault For Waiting.stem.mp4  \n",
            "  inflating: train/Auctioneer - Our Future Faces.stem.mp4  \n",
            "  inflating: train/AvaLuna - Waterduct.stem.mp4  \n",
            "  inflating: train/BigTroubles - Phantom.stem.mp4  \n",
            "  inflating: train/Bill Chudziak - Children Of No-one.stem.mp4  \n",
            "  inflating: train/Black Bloc - If You Want Success.stem.mp4  \n",
            "  inflating: train/Celestial Shore - Die For Us.stem.mp4  \n",
            "  inflating: train/Chris Durban - Celebrate.stem.mp4  \n",
            "  inflating: train/Clara Berry And Wooldog - Air Traffic.stem.mp4  \n",
            "  inflating: train/Clara Berry And Wooldog - Stella.stem.mp4  \n",
            "  inflating: train/Clara Berry And Wooldog - Waltz For My Victims.stem.mp4  \n",
            "  inflating: train/Cnoc An Tursa - Bannockburn.stem.mp4  \n",
            "  inflating: train/Creepoid - OldTree.stem.mp4  \n",
            "  inflating: train/Dark Ride - Burning Bridges.stem.mp4  \n",
            "  inflating: train/Dreamers Of The Ghetto - Heavy Love.stem.mp4  \n",
            "  inflating: train/Drumtracks - Ghost Bitch.stem.mp4  \n",
            "  inflating: train/Faces On Film - Waiting For Ga.stem.mp4  \n",
            "  inflating: train/Fergessen - Back From The Start.stem.mp4  \n",
            "  inflating: train/Fergessen - Nos Palpitants.stem.mp4  \n",
            "  inflating: train/Fergessen - The Wind.stem.mp4  \n",
            "  inflating: train/Flags - 54.stem.mp4  \n",
            "  inflating: train/Giselle - Moss.stem.mp4  \n",
            "  inflating: train/Grants - PunchDrunk.stem.mp4  \n",
            "  inflating: train/Helado Negro - Mitad Del Mundo.stem.mp4  \n",
            "  inflating: train/Hezekiah Jones - Borrowed Heart.stem.mp4  \n",
            "  inflating: train/Hollow Ground - Left Blind.stem.mp4  \n",
            "  inflating: train/Hop Along - Sister Cities.stem.mp4  \n",
            "  inflating: train/Invisible Familiars - Disturbing Wildlife.stem.mp4  \n",
            "  inflating: train/James May - All Souls Moon.stem.mp4  \n",
            "  inflating: train/James May - Dont Let Go.stem.mp4  \n",
            "  inflating: train/James May - If You Say.stem.mp4  \n",
            "  inflating: train/James May - On The Line.stem.mp4  \n",
            "  inflating: train/Jay Menon - Through My Eyes.stem.mp4  \n",
            "  inflating: train/Johnny Lokke - Promises & Lies.stem.mp4  \n",
            "  inflating: train/Johnny Lokke - Whisper To A Scream.stem.mp4  \n",
            "  inflating: train/Jokers, Jacks & Kings - Sea Of Leaves.stem.mp4  \n",
            "  inflating: train/Leaf - Come Around.stem.mp4  \n",
            "  inflating: train/Leaf - Summerghost.stem.mp4  \n",
            "  inflating: train/Leaf - Wicked.stem.mp4  \n",
            "  inflating: train/Lushlife - Toynbee Suite.stem.mp4  \n",
            "  inflating: train/Matthew Entwistle - Dont You Ever.stem.mp4  \n",
            "  inflating: train/Meaxic - Take A Step.stem.mp4  \n",
            "  inflating: train/Meaxic - You Listen.stem.mp4  \n",
            "  inflating: train/Music Delta - 80s Rock.stem.mp4  \n",
            "  inflating: train/Music Delta - Beatles.stem.mp4  \n",
            "  inflating: train/Music Delta - Britpop.stem.mp4  \n",
            "  inflating: train/Music Delta - Country1.stem.mp4  \n",
            "  inflating: train/Music Delta - Country2.stem.mp4  \n",
            "  inflating: train/Music Delta - Disco.stem.mp4  \n",
            "  inflating: train/Music Delta - Gospel.stem.mp4  \n",
            "  inflating: train/Music Delta - Grunge.stem.mp4  \n",
            "  inflating: train/Music Delta - Hendrix.stem.mp4  \n",
            "  inflating: train/Music Delta - Punk.stem.mp4  \n",
            "  inflating: train/Music Delta - Reggae.stem.mp4  \n",
            "  inflating: train/Music Delta - Rock.stem.mp4  \n",
            "  inflating: train/Music Delta - Rockabilly.stem.mp4  \n",
            "  inflating: train/Night Panther - Fire.stem.mp4  \n",
            "  inflating: train/North To Alaska - All The Same.stem.mp4  \n",
            "  inflating: train/Patrick Talbot - A Reason To Leave.stem.mp4  \n",
            "  inflating: train/Patrick Talbot - Set Me Free.stem.mp4  \n",
            "  inflating: train/Phre The Eon - Everybody's Falling Apart.stem.mp4  \n",
            "  inflating: train/Port St Willow - Stay Even.stem.mp4  \n",
            "  inflating: train/Remember December - C U Next Time.stem.mp4  \n",
            "  inflating: train/Secret Mountains - High Horse.stem.mp4  \n",
            "  inflating: train/Skelpolu - Human Mistakes.stem.mp4  \n",
            "  inflating: train/Skelpolu - Together Alone.stem.mp4  \n",
            "  inflating: train/Snowmine - Curfews.stem.mp4  \n",
            "  inflating: train/Spike Mullings - Mike's Sulking.stem.mp4  \n",
            "  inflating: train/St Vitus - Word Gets Around.stem.mp4  \n",
            "  inflating: train/Steven Clark - Bounty.stem.mp4  \n",
            "  inflating: train/Strand Of Oaks - Spacestation.stem.mp4  \n",
            "  inflating: train/Sweet Lights - You Let Me Down.stem.mp4  \n",
            "  inflating: train/Swinging Steaks - Lost My Way.stem.mp4  \n",
            "  inflating: train/The Districts - Vermont.stem.mp4  \n",
            "  inflating: train/The Long Wait - Back Home To Blue.stem.mp4  \n",
            "  inflating: train/The Scarlet Brand - Les Fleurs Du Mal.stem.mp4  \n",
            "  inflating: train/The So So Glos - Emergency.stem.mp4  \n",
            "  inflating: train/The Wrong'Uns - Rothko.stem.mp4  \n",
            "  inflating: train/Tim Taler - Stalker.stem.mp4  \n",
            "  inflating: train/Titanium - Haunted Age.stem.mp4  \n",
            "  inflating: train/Traffic Experiment - Once More (With Feeling).stem.mp4  \n",
            "  inflating: train/Traffic Experiment - Sirens.stem.mp4  \n",
            "  inflating: train/Triviul - Angelsaint.stem.mp4  \n",
            "  inflating: train/Triviul - Dorothy.stem.mp4  \n",
            "  inflating: train/Voelund - Comfort Lives In Belief.stem.mp4  \n",
            "  inflating: train/Wall Of Death - Femme.stem.mp4  \n",
            "  inflating: train/Young Griffo - Blood To Bone.stem.mp4  \n",
            "  inflating: train/Young Griffo - Facade.stem.mp4  \n",
            "  inflating: train/Young Griffo - Pennies.stem.mp4  \n"
          ]
        }
      ],
      "source": [
        "#@title **unzip files dataset**\n",
        "!unzip /content/drive/MyDrive/MUSDB/musdb18.zip"
      ]
    },
    {
      "cell_type": "code",
      "source": [
        "!pip install stempeg"
      ],
      "metadata": {
        "colab": {
          "base_uri": "https://localhost:8080/"
        },
        "id": "6xBqoUC6Pniu",
        "outputId": "20c20327-f9f7-4859-f492-0216a7e0727c"
      },
      "execution_count": null,
      "outputs": [
        {
          "output_type": "stream",
          "name": "stdout",
          "text": [
            "Collecting stempeg\n",
            "  Downloading stempeg-0.2.3-py3-none-any.whl (963 kB)\n",
            "\u001b[?25l     \u001b[90m━━━━━━━━━━━━━━━━━━━━━━━━━━━━━━━━━━━━━━━━\u001b[0m \u001b[32m0.0/963.5 kB\u001b[0m \u001b[31m?\u001b[0m eta \u001b[36m-:--:--\u001b[0m\r\u001b[2K     \u001b[91m━━━━━\u001b[0m\u001b[91m╸\u001b[0m\u001b[90m━━━━━━━━━━━━━━━━━━━━━━━━━━━━━━━━━\u001b[0m \u001b[32m143.4/963.5 kB\u001b[0m \u001b[31m4.1 MB/s\u001b[0m eta \u001b[36m0:00:01\u001b[0m\r\u001b[2K     \u001b[91m━━━━━━━━━━━━━━━━━━━━━━━━━\u001b[0m\u001b[90m╺\u001b[0m\u001b[90m━━━━━━━━━━━━━\u001b[0m \u001b[32m624.6/963.5 kB\u001b[0m \u001b[31m9.0 MB/s\u001b[0m eta \u001b[36m0:00:01\u001b[0m\r\u001b[2K     \u001b[90m━━━━━━━━━━━━━━━━━━━━━━━━━━━━━━━━━━━━━━━\u001b[0m \u001b[32m963.5/963.5 kB\u001b[0m \u001b[31m9.1 MB/s\u001b[0m eta \u001b[36m0:00:00\u001b[0m\n",
            "\u001b[?25hRequirement already satisfied: numpy>=1.6 in /usr/local/lib/python3.10/dist-packages (from stempeg) (1.23.5)\n",
            "Collecting ffmpeg-python>=0.2.0 (from stempeg)\n",
            "  Downloading ffmpeg_python-0.2.0-py3-none-any.whl (25 kB)\n",
            "Requirement already satisfied: future in /usr/local/lib/python3.10/dist-packages (from ffmpeg-python>=0.2.0->stempeg) (0.18.3)\n",
            "Installing collected packages: ffmpeg-python, stempeg\n",
            "Successfully installed ffmpeg-python-0.2.0 stempeg-0.2.3\n"
          ]
        }
      ]
    },
    {
      "cell_type": "code",
      "source": [
        "import stempeg\n",
        "import os\n",
        "import numpy as np"
      ],
      "metadata": {
        "id": "ZxgMLAYoPwQ1"
      },
      "execution_count": null,
      "outputs": []
    },
    {
      "cell_type": "code",
      "source": [
        "\n",
        "\n",
        "\n",
        "# Путь к исходному файлу\n",
        "input_file = \"/content/test/Angels In Amplifiers - I'm Alright.stem.mp4\"\n",
        "\n",
        "# Папка для сохранения каналов\n",
        "output_folder = \"/content/stem\"\n",
        "\n",
        "# Загрузка аудио файла с помощью stempeg\n",
        "audio_data, rate = stempeg.read_stems(input_file)\n",
        "\n",
        "# Создание папки для сохранения каналов\n",
        "os.makedirs(output_folder, exist_ok=True)\n",
        "\n",
        "channels = {\n",
        "    0: 'mixture',\n",
        "    1: 'accompaniment',\n",
        "    4: 'vocal'\n",
        "}\n",
        "# Перебор по каналам и сохранение в формате WAV\n",
        "for idx, channel in enumerate(audio_data):\n",
        "  if idx in channels and idx == 1:\n",
        "    combined_data = np.concatenate((audio_data[idx], audio_data[2], audio_data[3]), axis=1)\n",
        "  elif idx in channels:\n",
        "    combined_data = audio_data[idx]\n",
        "  else:\n",
        "    continue\n",
        "  output_file = os.path.join(output_folder, f\"{channels[idx]}.wav\")\n",
        "  stempeg.write_audio(path=output_file, data=combined_data, sample_rate=rate)\n",
        "  print(\"Сохранено в\", output_file)"
      ],
      "metadata": {
        "colab": {
          "base_uri": "https://localhost:8080/"
        },
        "id": "9V6wW5LDkcTt",
        "outputId": "3fb05dd1-0519-4240-eb4a-a1605206e81b"
      },
      "execution_count": null,
      "outputs": [
        {
          "output_type": "stream",
          "name": "stdout",
          "text": [
            "Сохранено в /content/stem/mixture.wav\n",
            "Сохранено в /content/stem/accompaniment.wav\n",
            "Сохранено в /content/stem/vocal.wav\n"
          ]
        }
      ]
    },
    {
      "cell_type": "code",
      "source": [
        "audio, rate = stempeg.read_stems('/content/stem/accompaniment.wav')"
      ],
      "metadata": {
        "id": "wgNK6rS37qjw"
      },
      "execution_count": null,
      "outputs": []
    },
    {
      "cell_type": "code",
      "source": [
        "audio.shape"
      ],
      "metadata": {
        "colab": {
          "base_uri": "https://localhost:8080/"
        },
        "id": "-DeZLDwu72Le",
        "outputId": "7f719e1d-faeb-46ab-b356-8a31a8e56551"
      },
      "execution_count": null,
      "outputs": [
        {
          "output_type": "execute_result",
          "data": {
            "text/plain": [
              "(7911424, 6)"
            ]
          },
          "metadata": {},
          "execution_count": 68
        }
      ]
    },
    {
      "cell_type": "code",
      "source": [
        "S, r = stempeg.read_stems('/content/stem/vocal.wav')"
      ],
      "metadata": {
        "id": "vVkvvk388Vz1"
      },
      "execution_count": null,
      "outputs": []
    },
    {
      "cell_type": "code",
      "source": [
        "S.shape"
      ],
      "metadata": {
        "colab": {
          "base_uri": "https://localhost:8080/"
        },
        "id": "S7ik9EsV8a3O",
        "outputId": "0e33a0fc-a4af-445a-fef6-38303fe6d173"
      },
      "execution_count": null,
      "outputs": [
        {
          "output_type": "execute_result",
          "data": {
            "text/plain": [
              "(7911424, 2)"
            ]
          },
          "metadata": {},
          "execution_count": 70
        }
      ]
    },
    {
      "cell_type": "markdown",
      "source": [
        "Вариант предложенные ЧатЖПТ"
      ],
      "metadata": {
        "id": "iizcjmERQ9PZ"
      }
    },
    {
      "cell_type": "code",
      "source": [
        "# Путь к исходному файлу\n",
        "input_file = \"путь_к_вашему_файлу.wav\"\n",
        "\n",
        "# Загрузка аудио файла с помощью stempeg\n",
        "audio_data, rate = stempeg.read_stems(input_file)\n",
        "\n",
        "# Индексы каналов, которые вы хотите объединить\n",
        "combine_channels = [1, 2, 3]  # drums, bass, accompaniment\n",
        "\n",
        "# Объединение выбранных каналов и усреднение, если каналы имеют разные размерности\n",
        "combined_data = np.mean([audio_data[channel_idx] for channel_idx in combine_channels], axis=0)\n",
        "\n",
        "# Преобразование входных данных в тензоры и изменение формата\n",
        "input_mixture = np.expand_dims(audio_data[0], axis=-1)\n",
        "input_vocals = np.expand_dims(audio_data[4], axis=-1)\n",
        "input_drums_bass_accompaniment = np.expand_dims(combined_data, axis=-1)"
      ],
      "metadata": {
        "id": "87rtwupPRAtQ"
      },
      "execution_count": null,
      "outputs": []
    }
  ],
  "metadata": {
    "colab": {
      "provenance": [],
      "authorship_tag": "ABX9TyMtBy8RbQ1kpXXLAp+OX+DS",
      "include_colab_link": true
    },
    "kernelspec": {
      "display_name": "Python 3",
      "name": "python3"
    },
    "language_info": {
      "name": "python"
    }
  },
  "nbformat": 4,
  "nbformat_minor": 0
}